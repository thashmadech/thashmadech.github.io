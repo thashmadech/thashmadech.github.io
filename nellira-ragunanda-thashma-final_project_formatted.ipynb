{
 "cells": [
  {
   "cell_type": "markdown",
   "id": "096f6917",
   "metadata": {},
   "source": [
    "# An Interactive Dashboard to understand GDP, Population and Life Expectancy of the World\n",
    "\n",
    "#### Author : Thashma Nellira Ragunanda\n",
    "\n",
    "I am using the plotly dash library of python to create a dash app of GDP,population and life expectancy of different countries.Written on top of Plotly.js and React.js, Dash is ideal for building and deploying data apps with customized user interfaces. I have also used plotly express and the geography related functions to create a couple of contextual visualizations.\n",
    "\n",
    "I also used pandas to create dataframes using the csv files,clean and convert specif colums to their data types and filter out the necessary information for the plots.\n",
    "\n",
    "I am using 2 different csv datasets for my visualizations which can be found at\n",
    "\n",
    "https://github.com/thashmadech/IS445/blob/main/project/gapminder.csv\n",
    "\n",
    "https://github.com/thashmadech/IS445/blob/main/project/countries_codes_and_coordinates.csv\n",
    "\n",
    "\n",
    "##### 1. Gapminder :\n",
    "Gapminder identifies systematic misconceptions about important global trends and proportions and uses reliable data to develop easy to understand teaching materials to rid people of their misconceptions. I have downloaded the file and used 3 different indicators for my visualization.\n",
    "\n",
    "I obtained it from Harvard dataverse. It is based on free material from GAPMINDER.ORG, CC-BY LICENSE.\n",
    "\n",
    "The data obtained is for the years 1952 - 2007\n",
    "\n",
    "##### 2. Countries and codes: \n",
    "A file downloaded from https://en.wikipedia.org/wiki/List_of_ISO_3166_country_codes which countains the Alpha-3 and Alpha-2 codes for countries\n",
    "\n"
   ]
  },
  {
   "cell_type": "code",
   "execution_count": 1,
   "id": "51bcac40",
   "metadata": {},
   "outputs": [],
   "source": [
    "# essential imports\n",
    "from jupyter_dash import JupyterDash \n",
    "\n",
    "import dash\n",
    "from dash import html\n",
    "from dash import dcc\n",
    "from dash.dependencies import Output, Input\n",
    "\n",
    "import plotly.express as px\n",
    "import math\n",
    "from dash import no_update\n",
    "\n",
    "import pandas as pd\n",
    "import numpy as np\n",
    "import json"
   ]
  },
  {
   "cell_type": "code",
   "execution_count": 2,
   "id": "5a574c3b",
   "metadata": {},
   "outputs": [],
   "source": [
    "# read the GDP data\n",
    "df_country = pd.read_csv(\"https://github.com/thashmadech/IS445/blob/main/project/gapminder.csv?raw=true\")"
   ]
  },
  {
   "cell_type": "code",
   "execution_count": 3,
   "id": "ab3f939c",
   "metadata": {},
   "outputs": [],
   "source": [
    "df_country.head();"
   ]
  },
  {
   "cell_type": "code",
   "execution_count": 4,
   "id": "1004ebad",
   "metadata": {},
   "outputs": [],
   "source": [
    "# we load a secondary dataset with all countries and their 3-letter alpha code \n",
    "df_country_code = pd.read_csv(\"https://github.com/thashmadech/IS445/blob/main/project/countries_codes_and_coordinates.csv?raw=true\")\n",
    "df_country_code['Alpha-3 code'] = df_country_code['Alpha-3 code'].apply(lambda s : s.replace('\"', \"\"))"
   ]
  },
  {
   "cell_type": "code",
   "execution_count": 5,
   "id": "dbed62f9",
   "metadata": {},
   "outputs": [],
   "source": [
    "df_country_code.head();"
   ]
  },
  {
   "cell_type": "code",
   "execution_count": 6,
   "id": "c420c8a1",
   "metadata": {},
   "outputs": [],
   "source": [
    "#available economic indicators in the gapminder.csv file\n",
    "\n",
    "indicators = ['lifeExp','pop','gdpPercap']"
   ]
  },
  {
   "cell_type": "markdown",
   "id": "eef4fb34",
   "metadata": {},
   "source": [
    "I am using the below helper function to display a single row from the Countries and codes dataframe as well as display the name of the country whose data has been hovered and clicked on the scatter plot."
   ]
  },
  {
   "cell_type": "code",
   "execution_count": 7,
   "id": "cd9e6112",
   "metadata": {},
   "outputs": [],
   "source": [
    "# a helper function\n",
    "def get_country_name(country_code):    \n",
    "  one_row = df_country_code[df_country_code['Alpha-3 code'].str.strip() == country_code]\n",
    "  if not one_row.empty:\n",
    "    display(one_row)\n",
    "    return one_row['Country'].values[0]\n",
    "  else:\n",
    "    return ''\n",
    "# end"
   ]
  },
  {
   "cell_type": "markdown",
   "id": "a5b8c16e",
   "metadata": {},
   "source": [
    "The below css is available at codepen.io which can be used to create rows and columns. I am using them to create a layout for my dashboard"
   ]
  },
  {
   "cell_type": "code",
   "execution_count": 8,
   "id": "440145dd",
   "metadata": {},
   "outputs": [],
   "source": [
    "# this external css creates columns and row layout\n",
    "style_css = ['https://codepen.io/chriddyp/pen/bWLwgP.css']"
   ]
  },
  {
   "cell_type": "markdown",
   "id": "190393c5",
   "metadata": {},
   "source": [
    "###  Dashboard Design:\n",
    "\n",
    "In Dash, multiple html elements are added inside an html div tag as a list. The list construct takes classnames to evenly space the columns. For example we can use classname = \"three columns\" of we want to span the space into 3 columns.\n",
    "\n",
    "Below, I am creating a dashboard template with rows and columns that I need. I have created 3 rows.\n",
    "\n",
    "1st row: The Header\n",
    "\n",
    "2nd row: Two drop downs and 2 radio boxes\n",
    "\n",
    "3rd row: A scatter plot, a slider and a bar plot\n"
   ]
  },
  {
   "cell_type": "code",
   "execution_count": 9,
   "id": "1391327c",
   "metadata": {},
   "outputs": [],
   "source": [
    "app = JupyterDash(__name__, external_stylesheets=style_css)\n",
    "\n",
    "app.layout = html.Div([\n",
    "    # first row: header\n",
    "    html.H4('An interactive Dashboard of GDP Vs Population Vs life Expectancy '),\n",
    "\n",
    "    # second row: two drop-downs and radio-boxes. \n",
    "    html.Div([\n",
    "      html.Div([\n",
    "        dcc.Dropdown(\n",
    "          id='xaxis-column',\n",
    "          options=[{'label': i, 'value': i} for i in indicators], #e.g., {label: 'pop', 'value':'pop'}\n",
    "          value='lifeExp'\n",
    "        ),\n",
    "        dcc.RadioItems(\n",
    "          id='xaxis-type',\n",
    "          options=[{'label': i, 'value': i} for i in ['Linear', 'Log']],\n",
    "          value='Linear',\n",
    "          labelStyle={'display': 'inline-block'}\n",
    "        )\n",
    "      ], className='four columns'),\n",
    "\n",
    "      html.Div([\n",
    "        dcc.Dropdown(\n",
    "          id='yaxis-column',\n",
    "          options=[{'label': i, 'value': i} for i in indicators],\n",
    "          value='gdpPercap'\n",
    "        ),\n",
    "        dcc.RadioItems(\n",
    "          id='yaxis-type',\n",
    "          options=[{'label': i, 'value': i} for i in ['Linear', 'Log']],\n",
    "          value='Linear',\n",
    "          labelStyle={'display': 'inline-block'}\n",
    "        )\n",
    "      ], className='four columns')\n",
    "\n",
    "    ], className='row'),\n",
    "\n",
    "\n",
    "    # third row:\n",
    "    html.Div([\n",
    "\n",
    "      # first item: scatter plot\n",
    "      html.Div([\n",
    "\n",
    "        # add scatter plot\n",
    "        dcc.Graph(\n",
    "          id='scatter-plot',\n",
    "          figure=px.scatter() \n",
    "        ),\n",
    "\n",
    "        # add slider\n",
    "        dcc.Slider(\n",
    "          id='year-slider',\n",
    "          min=df_country['year'].min(),\n",
    "          max=df_country['year'].max(),\n",
    "          value=df_country['year'].min(),\n",
    "          marks={str(year): str(year) for year in df_country['year'].unique()},\n",
    "          step=None\n",
    "        )\n",
    "\n",
    "      ], className='seven columns'),\n",
    "\n",
    "      \n",
    "\n",
    "      # second item: bar chart\n",
    "      html.Div([\n",
    "        dcc.Graph(\n",
    "          id='bar-chart',\n",
    "          figure=px.bar()\n",
    "        )\n",
    "      ], className='five columns')\n",
    "\n",
    "    ], className = 'row'),\n",
    "\n",
    "    \n",
    "\n",
    "    # fourth row\n",
    "    html.Div([\n",
    "        html.Div([\n",
    "#           html.H3('Debug'),\n",
    "          #html.Br(),\n",
    "          html.P(id='output_text_1', children='Total:'),\n",
    "          html.P(id='output_text_2', children='Details:')\n",
    "#           html.P(id='output_text_3', children='Details2:'),\n",
    "#           html.P(id='output_text_4', children='Details3:')\n",
    "        ], className = 'five columns')\n",
    "\n",
    "    ], className = 'row')\n",
    "\n",
    "])\n",
    "\n",
    "\n"
   ]
  },
  {
   "cell_type": "markdown",
   "id": "81c0d58c",
   "metadata": {},
   "source": [
    "#### Callbacks\n",
    "\n",
    "I am creating 2 call backs for the 2 plots on my dashboard.\n",
    "\n",
    "Each callback  has 2 components, a callback definition(@app.callback and a callback function after tge callback definition.)\n",
    "\n",
    "The input and the output of the callback function must match the definition of @app.callback\n",
    "\n",
    "The output is followed by one or more inputs."
   ]
  },
  {
   "cell_type": "code",
   "execution_count": 10,
   "id": "2f98fd85",
   "metadata": {},
   "outputs": [],
   "source": [
    "# callback definition for the scatter plot\n",
    "@app.callback(\n",
    "  Output('scatter-plot', 'figure'),\n",
    "  Output('output_text_1', 'children'), #debug\n",
    "  Input('year-slider', 'value'),\n",
    "  Input('xaxis-column', 'value'),\n",
    "  Input('yaxis-column', 'value'),\n",
    "  Input('xaxis-type', 'value'),\n",
    "  Input('yaxis-type', 'value'),\n",
    ")\n",
    "\n",
    "\n",
    "\n",
    "# first callback function\n",
    "def update_graph(selected_year, xaxis_column_name, yaxis_column_name, xaxis_type, yaxis_type):\n",
    "  # print all input params to keep track of the clicks and coordinates\n",
    "  debug_params =''\n",
    "    #'Input: {0}, {1}, {2}, {3}, {4}'.format(selected_year, xaxis_column_name, yaxis_column_name, xaxis_type, yaxis_type)\n",
    "\n",
    "  # filter data frame by year\n",
    "  filtered_df = df_country[df_country.year == selected_year]\n",
    "\n",
    "  fig_scatter_plot = px.scatter(\n",
    "    data_frame = filtered_df,\n",
    "    x=str(xaxis_column_name),\n",
    "    y=str(yaxis_column_name),\n",
    "    hover_name=\"country\",\n",
    "    color=\"continent\",\n",
    "    size_max=55,\n",
    "    \n",
    "    custom_data = [\"iso_alpha\"],\n",
    "    title= \"{0}  vs {1} of Countries\".format(xaxis_column_name, yaxis_column_name)\n",
    "  )\n",
    "\n",
    "  fig_scatter_plot.update_layout(transition_duration=500)\n",
    "\n",
    "  fig_scatter_plot.update_xaxes(\n",
    "    title=xaxis_column_name,\n",
    "    type='linear' if xaxis_type == 'Linear' else 'log'\n",
    "  )\n",
    "\n",
    "  fig_scatter_plot.update_yaxes(\n",
    "    title=yaxis_column_name,\n",
    "    type='linear' if yaxis_type == 'Linear' else 'log'\n",
    "  )\n",
    "\n",
    "  # return\n",
    "  return fig_scatter_plot, debug_params\n",
    "# end update_\n",
    "\n",
    "\n",
    "\n",
    "\n",
    "\n",
    "\n",
    "\n",
    "\n",
    "# second callback for the bar plot\n",
    "@app.callback(\n",
    "  Output('bar-chart', 'figure'),\n",
    "  Output('output_text_2', 'children'), #debug\n",
    "  Input('scatter-plot', 'clickData'), \n",
    "  Input('xaxis-column', 'value'),\n",
    "  Input('xaxis-type', 'value')\n",
    ")\n",
    "# second callback definition\n",
    "def update_bar_graph(clickData, xaxis_column_name, axis_type):\n",
    "  if not clickData:\n",
    "    return no_update\n",
    "\n",
    "  debug_params = '' #using the debug params to keep track of the click data points\n",
    "    #'Input: {0}, {1}, {2}'.format(clickData['points'], xaxis_column_name, axis_type)\n",
    "\n",
    "  #print(str(clickData['points'][0]['customdata'][0]))\n",
    "  country_code = str(clickData['points'][0]['customdata'][0])\n",
    "\n",
    "  filtered_df = df_country[df_country['iso_alpha'] == country_code]\n",
    "\n",
    "  fig_bar_plot = px.bar(\n",
    "    data_frame = filtered_df,\n",
    "    x=\"year\",\n",
    "    y=str(xaxis_column_name),\n",
    "    title= \"{0} of {1} \".format(xaxis_column_name, get_country_name(country_code))\n",
    "  )\n",
    "\n",
    "  fig_bar_plot.update_yaxes(\n",
    "    title=xaxis_column_name,\n",
    "    type='linear' if axis_type == 'Linear' else 'log'\n",
    "  )\n",
    "\n",
    "  # return\n",
    "  return fig_bar_plot, debug_params\n",
    "\n",
    "\n",
    "# end"
   ]
  },
  {
   "cell_type": "markdown",
   "id": "c5857e95",
   "metadata": {},
   "source": [
    "## How to use the Dashboard?\n",
    "\n",
    "##### 1. Clicking on any point of the scatterplot loads the barplot on the right side.\n",
    "\n",
    "##### 2. The drop downs contain the different indicator values which loads the scatter plot. Selecting them is useful to populate the graph with appropriate information.\n",
    "\n",
    "#####  3.The slider at the bottom of the scatter plot shows the indicator value for the specified year. \n",
    "\n",
    "##### 4. Double Clicking on the legends(continent) will highlight the scatterplot of  the specific continent. \n",
    "\n",
    "##### 5. The specific values for the data point is shown upon hovering on the plots.( Both for the scatter plot as wellas the Bar Plot)\n",
    "\n",
    "##### 6. The graph can be viewed lineraly or logarithmically using the radio buttons at the bottom of the drop down.\n",
    "Running the dash app on port 8050(my local machine)"
   ]
  },
  {
   "cell_type": "code",
   "execution_count": 11,
   "id": "454fb39f",
   "metadata": {},
   "outputs": [
    {
     "data": {
      "text/html": [
       "\n",
       "        <iframe\n",
       "            width=\"100%\"\n",
       "            height=\"650\"\n",
       "            src=\"http://127.0.0.1:8050/\"\n",
       "            frameborder=\"0\"\n",
       "            allowfullscreen\n",
       "        ></iframe>\n",
       "        "
      ],
      "text/plain": [
       "<IPython.lib.display.IFrame at 0x7ffbe5251940>"
      ]
     },
     "metadata": {},
     "output_type": "display_data"
    }
   ],
   "source": [
    "app.run_server(mode='inline')\n",
    "# if __name__ == '__main__':\n",
    "#   app.run_server(debug=True)"
   ]
  },
  {
   "cell_type": "markdown",
   "id": "7751e8c4",
   "metadata": {},
   "source": [
    "## Contextual Visualizations\n",
    "The below visualizations are plotted using the country_codes, latitudes and longitudes available in the countries_codes_and_coordinates.csv file along with the indicators from the gapminder file. \n",
    "\n"
   ]
  },
  {
   "cell_type": "code",
   "execution_count": 12,
   "id": "8ecde061",
   "metadata": {},
   "outputs": [],
   "source": [
    "#cleaning the dataframe columns to extract the latitude and longitude in appropriate format\n",
    "df_country_code.rename(index=str,columns={\"Latitude (average)\":\"lat\",\"Longitude (average)\":\"lon\"},inplace=True)\n",
    "df_country_code.sample(10)\n",
    "\n",
    "df_country_code[\"lat\"] = df_country_code[\"lat\"].str.replace('\"', '')\n",
    "df_country_code[\"lon\"] = df_country_code[\"lon\"].str.replace('\"', '')\n",
    "\n",
    "df_country_code[\"lat\"] = df_country_code[\"lat\"].astype(float)\n",
    "df_country_code[\"lon\"] = df_country_code[\"lon\"].astype(float)\n"
   ]
  },
  {
   "cell_type": "code",
   "execution_count": 13,
   "id": "993ff91f",
   "metadata": {},
   "outputs": [
    {
     "data": {
      "text/plain": [
       "Country          object\n",
       "Alpha-2 code     object\n",
       "Alpha-3 code     object\n",
       "Numeric code     object\n",
       "lat             float64\n",
       "lon             float64\n",
       "dtype: object"
      ]
     },
     "execution_count": 13,
     "metadata": {},
     "output_type": "execute_result"
    }
   ],
   "source": [
    "df_country_code.dtypes"
   ]
  },
  {
   "cell_type": "markdown",
   "id": "43602c3e",
   "metadata": {},
   "source": [
    "The Below plot shows the latitude, longitude and the countries that are found in the dataset. It is useful to understand how much data we have collected to draw conclusions."
   ]
  },
  {
   "cell_type": "code",
   "execution_count": 14,
   "id": "afce6c9d",
   "metadata": {},
   "outputs": [],
   "source": [
    "import geopandas as gpd\n",
    "#px.set_mapbox_access_token(open(\".mapbox_token\").read())\n",
    "fig = px.scatter_geo(df_country_code,\n",
    "                    lat=df_country_code.lat,\n",
    "                    lon=df_country_code.lon,\n",
    "                    hover_name=\"Country\"\n",
    "                    )\n",
    "#fig.show()\n",
    "#fig.write_html(\"file1.html\")\n"
   ]
  },
  {
   "cell_type": "markdown",
   "id": "d1a7614f",
   "metadata": {},
   "source": [
    "#### Click this  link to see the <a href=\"https://thashmadech.github.io/thashmadech.github.io-img1/\" target=\"_blank\">co-ordinates of the data from where the data is gathered</a>"
   ]
  },
  {
   "cell_type": "markdown",
   "id": "6fb5be0e",
   "metadata": {},
   "source": [
    "\n",
    "\n",
    "The below image shows the Population changes across different years across different countries and continents. Since each continent is represented by a color we can see that which continent's population is the highest.\n",
    "\n",
    "##### The play button at the bottom of the plot is used for animating the world map to show the change in population over the years."
   ]
  },
  {
   "cell_type": "code",
   "execution_count": 15,
   "id": "46dd4384",
   "metadata": {},
   "outputs": [],
   "source": [
    "fig = px.scatter_geo(df_country, locations=\"iso_alpha\",\n",
    "                     color=\"continent\", # which column to use to set the color of markers\n",
    "                     hover_name=\"country\", # column added to hover information\n",
    "                     size=\"pop\", # size of markers\n",
    "                     projection=\"natural earth\",\n",
    "                     animation_frame=\"year\"\n",
    "                    )\n",
    "#fig.show()\n",
    "#fig.write_html(\"file2.html\")\n"
   ]
  },
  {
   "cell_type": "markdown",
   "id": "10fa7538",
   "metadata": {},
   "source": [
    "#### Click this  link to see the <a href=\"https://thashmadech.github.io/thashmadech.github.io-img2/\" target=\"_blank\">change in population over the years.</a>"
   ]
  },
  {
   "cell_type": "markdown",
   "id": "e63ce43f",
   "metadata": {},
   "source": [
    "The next plot is a gradient map displaying the life expectancy over the years.\n",
    "\n",
    "##### The play button at the bottom of the plot is used for animating the world map to show the change in life expectancy over the years."
   ]
  },
  {
   "cell_type": "code",
   "execution_count": 16,
   "id": "bb231741",
   "metadata": {},
   "outputs": [],
   "source": [
    "\n",
    "fig = px.choropleth(df_country, locations=\"iso_alpha\", color=\"lifeExp\", hover_name=\"country\", animation_frame=\"year\", range_color=[20,80])\n",
    "#fig.show()\n",
    "#fig.write_html(\"file3.html\")\n"
   ]
  },
  {
   "cell_type": "markdown",
   "id": "342c6884",
   "metadata": {},
   "source": [
    "#### Click this  link to see the <a href=\"https://thashmadech.github.io/thashmadech.github.io-img3/\" target=\"_blank\">change in life expectancy over the years.</a>"
   ]
  },
  {
   "cell_type": "markdown",
   "id": "e6d160f9",
   "metadata": {},
   "source": [
    "From this assignment I learned a new python plotly library called dash which can be used to build apps with dashboards that can be run on browsers and IDE's.\n",
    "While building the dashboard I encountered a lot of challenges and obstacles as this is my first time using this library. Watching tutorial videos and going through sample sources available online helped me overcome these challenges as well as learn new ways of creating visualizations.  "
   ]
  },
  {
   "cell_type": "markdown",
   "id": "2eb8c42b",
   "metadata": {},
   "source": [
    "##### Since I was not able to render the plotly express contextual visualizations in github pages I have provided links to them above.It takes you to the visualizations I have created and uploaded separately in my github repo.Clicking on the links will display the visualizations in a new tab."
   ]
  },
  {
   "cell_type": "markdown",
   "id": "dbd3cc06",
   "metadata": {},
   "source": [
    " #####  References:\n",
    "    \n",
    " https://medium.com/analytics-vidhya/express-way-to-do-visualization-in-python-b9bc01143553\n",
    " \n",
    " \n",
    " https://www.kaggle.com/code/jhossain/explore-the-gapminder-dataset-with-plotly-express/notebook\n",
    " \n",
    " \n",
    " https://plotly.com/python/plotly-express/\n",
    " https://www.gapminder.org/tools/#$model$markers$bubble$encoding$selected$data$filter$markers@=ind&=tur&=egy&=uga&=kornga;;;;;;;;&chart-type=map&url=v1\n",
    " \n",
    " \n",
    " https://plotly.com/python/scatter-plots-on-maps/    \n",
    " \n",
    "https://github.com/Coding-with-Adam/Dash-by-Plotly/blob/master/Deploy_App_to_Web/Kaggle-GGL-Collab/Dash-on-GGL-Colab.ipynb\n",
    "\n",
    "https://www.justintodata.com/python-interactive-dashboard-with-plotly-dash-tutorial/\n",
    "\n",
    "https://dash.plotly.com/dash-core-components\n"
   ]
  },
  {
   "cell_type": "code",
   "execution_count": 18,
   "id": "26b0bc55",
   "metadata": {},
   "outputs": [
    {
     "name": "stdout",
     "output_type": "stream",
     "text": [
      "[NbConvertApp] Converting notebook nellira-ragunanda-thashma-final_project_formatted.ipynb to html\n",
      "[NbConvertApp] Writing 630920 bytes to nellira-ragunanda-thashma-final_project_formatted.html\n"
     ]
    },
    {
     "data": {
      "text/html": [
       "<div>\n",
       "<style scoped>\n",
       "    .dataframe tbody tr th:only-of-type {\n",
       "        vertical-align: middle;\n",
       "    }\n",
       "\n",
       "    .dataframe tbody tr th {\n",
       "        vertical-align: top;\n",
       "    }\n",
       "\n",
       "    .dataframe thead th {\n",
       "        text-align: right;\n",
       "    }\n",
       "</style>\n",
       "<table border=\"1\" class=\"dataframe\">\n",
       "  <thead>\n",
       "    <tr style=\"text-align: right;\">\n",
       "      <th></th>\n",
       "      <th>Country</th>\n",
       "      <th>Alpha-2 code</th>\n",
       "      <th>Alpha-3 code</th>\n",
       "      <th>Numeric code</th>\n",
       "      <th>lat</th>\n",
       "      <th>lon</th>\n",
       "    </tr>\n",
       "  </thead>\n",
       "  <tbody>\n",
       "    <tr>\n",
       "      <th>12</th>\n",
       "      <td>Australia</td>\n",
       "      <td>\"AU\"</td>\n",
       "      <td>AUS</td>\n",
       "      <td>\"36\"</td>\n",
       "      <td>-27.0</td>\n",
       "      <td>133.0</td>\n",
       "    </tr>\n",
       "  </tbody>\n",
       "</table>\n",
       "</div>"
      ],
      "text/plain": [
       "      Country Alpha-2 code Alpha-3 code Numeric code   lat    lon\n",
       "12  Australia         \"AU\"          AUS         \"36\" -27.0  133.0"
      ]
     },
     "metadata": {},
     "output_type": "display_data"
    },
    {
     "data": {
      "text/html": [
       "<div>\n",
       "<style scoped>\n",
       "    .dataframe tbody tr th:only-of-type {\n",
       "        vertical-align: middle;\n",
       "    }\n",
       "\n",
       "    .dataframe tbody tr th {\n",
       "        vertical-align: top;\n",
       "    }\n",
       "\n",
       "    .dataframe thead th {\n",
       "        text-align: right;\n",
       "    }\n",
       "</style>\n",
       "<table border=\"1\" class=\"dataframe\">\n",
       "  <thead>\n",
       "    <tr style=\"text-align: right;\">\n",
       "      <th></th>\n",
       "      <th>Country</th>\n",
       "      <th>Alpha-2 code</th>\n",
       "      <th>Alpha-3 code</th>\n",
       "      <th>Numeric code</th>\n",
       "      <th>lat</th>\n",
       "      <th>lon</th>\n",
       "    </tr>\n",
       "  </thead>\n",
       "  <tbody>\n",
       "    <tr>\n",
       "      <th>12</th>\n",
       "      <td>Australia</td>\n",
       "      <td>\"AU\"</td>\n",
       "      <td>AUS</td>\n",
       "      <td>\"36\"</td>\n",
       "      <td>-27.0</td>\n",
       "      <td>133.0</td>\n",
       "    </tr>\n",
       "  </tbody>\n",
       "</table>\n",
       "</div>"
      ],
      "text/plain": [
       "      Country Alpha-2 code Alpha-3 code Numeric code   lat    lon\n",
       "12  Australia         \"AU\"          AUS         \"36\" -27.0  133.0"
      ]
     },
     "metadata": {},
     "output_type": "display_data"
    },
    {
     "data": {
      "text/html": [
       "<div>\n",
       "<style scoped>\n",
       "    .dataframe tbody tr th:only-of-type {\n",
       "        vertical-align: middle;\n",
       "    }\n",
       "\n",
       "    .dataframe tbody tr th {\n",
       "        vertical-align: top;\n",
       "    }\n",
       "\n",
       "    .dataframe thead th {\n",
       "        text-align: right;\n",
       "    }\n",
       "</style>\n",
       "<table border=\"1\" class=\"dataframe\">\n",
       "  <thead>\n",
       "    <tr style=\"text-align: right;\">\n",
       "      <th></th>\n",
       "      <th>Country</th>\n",
       "      <th>Alpha-2 code</th>\n",
       "      <th>Alpha-3 code</th>\n",
       "      <th>Numeric code</th>\n",
       "      <th>lat</th>\n",
       "      <th>lon</th>\n",
       "    </tr>\n",
       "  </thead>\n",
       "  <tbody>\n",
       "    <tr>\n",
       "      <th>236</th>\n",
       "      <td>Vietnam</td>\n",
       "      <td>\"VN\"</td>\n",
       "      <td>VNM</td>\n",
       "      <td>\"704\"</td>\n",
       "      <td>16.0</td>\n",
       "      <td>106.0</td>\n",
       "    </tr>\n",
       "  </tbody>\n",
       "</table>\n",
       "</div>"
      ],
      "text/plain": [
       "     Country Alpha-2 code Alpha-3 code Numeric code   lat    lon\n",
       "236  Vietnam         \"VN\"          VNM        \"704\"  16.0  106.0"
      ]
     },
     "metadata": {},
     "output_type": "display_data"
    },
    {
     "data": {
      "text/html": [
       "<div>\n",
       "<style scoped>\n",
       "    .dataframe tbody tr th:only-of-type {\n",
       "        vertical-align: middle;\n",
       "    }\n",
       "\n",
       "    .dataframe tbody tr th {\n",
       "        vertical-align: top;\n",
       "    }\n",
       "\n",
       "    .dataframe thead th {\n",
       "        text-align: right;\n",
       "    }\n",
       "</style>\n",
       "<table border=\"1\" class=\"dataframe\">\n",
       "  <thead>\n",
       "    <tr style=\"text-align: right;\">\n",
       "      <th></th>\n",
       "      <th>Country</th>\n",
       "      <th>Alpha-2 code</th>\n",
       "      <th>Alpha-3 code</th>\n",
       "      <th>Numeric code</th>\n",
       "      <th>lat</th>\n",
       "      <th>lon</th>\n",
       "    </tr>\n",
       "  </thead>\n",
       "  <tbody>\n",
       "    <tr>\n",
       "      <th>236</th>\n",
       "      <td>Vietnam</td>\n",
       "      <td>\"VN\"</td>\n",
       "      <td>VNM</td>\n",
       "      <td>\"704\"</td>\n",
       "      <td>16.0</td>\n",
       "      <td>106.0</td>\n",
       "    </tr>\n",
       "  </tbody>\n",
       "</table>\n",
       "</div>"
      ],
      "text/plain": [
       "     Country Alpha-2 code Alpha-3 code Numeric code   lat    lon\n",
       "236  Vietnam         \"VN\"          VNM        \"704\"  16.0  106.0"
      ]
     },
     "metadata": {},
     "output_type": "display_data"
    },
    {
     "data": {
      "text/html": [
       "<div>\n",
       "<style scoped>\n",
       "    .dataframe tbody tr th:only-of-type {\n",
       "        vertical-align: middle;\n",
       "    }\n",
       "\n",
       "    .dataframe tbody tr th {\n",
       "        vertical-align: top;\n",
       "    }\n",
       "\n",
       "    .dataframe thead th {\n",
       "        text-align: right;\n",
       "    }\n",
       "</style>\n",
       "<table border=\"1\" class=\"dataframe\">\n",
       "  <thead>\n",
       "    <tr style=\"text-align: right;\">\n",
       "      <th></th>\n",
       "      <th>Country</th>\n",
       "      <th>Alpha-2 code</th>\n",
       "      <th>Alpha-3 code</th>\n",
       "      <th>Numeric code</th>\n",
       "      <th>lat</th>\n",
       "      <th>lon</th>\n",
       "    </tr>\n",
       "  </thead>\n",
       "  <tbody>\n",
       "    <tr>\n",
       "      <th>102</th>\n",
       "      <td>Iraq</td>\n",
       "      <td>\"IQ\"</td>\n",
       "      <td>IRQ</td>\n",
       "      <td>\"368\"</td>\n",
       "      <td>33.0</td>\n",
       "      <td>44.0</td>\n",
       "    </tr>\n",
       "  </tbody>\n",
       "</table>\n",
       "</div>"
      ],
      "text/plain": [
       "    Country Alpha-2 code Alpha-3 code Numeric code   lat   lon\n",
       "102    Iraq         \"IQ\"          IRQ        \"368\"  33.0  44.0"
      ]
     },
     "metadata": {},
     "output_type": "display_data"
    },
    {
     "data": {
      "text/html": [
       "<div>\n",
       "<style scoped>\n",
       "    .dataframe tbody tr th:only-of-type {\n",
       "        vertical-align: middle;\n",
       "    }\n",
       "\n",
       "    .dataframe tbody tr th {\n",
       "        vertical-align: top;\n",
       "    }\n",
       "\n",
       "    .dataframe thead th {\n",
       "        text-align: right;\n",
       "    }\n",
       "</style>\n",
       "<table border=\"1\" class=\"dataframe\">\n",
       "  <thead>\n",
       "    <tr style=\"text-align: right;\">\n",
       "      <th></th>\n",
       "      <th>Country</th>\n",
       "      <th>Alpha-2 code</th>\n",
       "      <th>Alpha-3 code</th>\n",
       "      <th>Numeric code</th>\n",
       "      <th>lat</th>\n",
       "      <th>lon</th>\n",
       "    </tr>\n",
       "  </thead>\n",
       "  <tbody>\n",
       "    <tr>\n",
       "      <th>120</th>\n",
       "      <td>Lebanon</td>\n",
       "      <td>\"LB\"</td>\n",
       "      <td>LBN</td>\n",
       "      <td>\"422\"</td>\n",
       "      <td>33.8333</td>\n",
       "      <td>35.8333</td>\n",
       "    </tr>\n",
       "  </tbody>\n",
       "</table>\n",
       "</div>"
      ],
      "text/plain": [
       "     Country Alpha-2 code Alpha-3 code Numeric code      lat      lon\n",
       "120  Lebanon         \"LB\"          LBN        \"422\"  33.8333  35.8333"
      ]
     },
     "metadata": {},
     "output_type": "display_data"
    },
    {
     "data": {
      "text/html": [
       "<div>\n",
       "<style scoped>\n",
       "    .dataframe tbody tr th:only-of-type {\n",
       "        vertical-align: middle;\n",
       "    }\n",
       "\n",
       "    .dataframe tbody tr th {\n",
       "        vertical-align: top;\n",
       "    }\n",
       "\n",
       "    .dataframe thead th {\n",
       "        text-align: right;\n",
       "    }\n",
       "</style>\n",
       "<table border=\"1\" class=\"dataframe\">\n",
       "  <thead>\n",
       "    <tr style=\"text-align: right;\">\n",
       "      <th></th>\n",
       "      <th>Country</th>\n",
       "      <th>Alpha-2 code</th>\n",
       "      <th>Alpha-3 code</th>\n",
       "      <th>Numeric code</th>\n",
       "      <th>lat</th>\n",
       "      <th>lon</th>\n",
       "    </tr>\n",
       "  </thead>\n",
       "  <tbody>\n",
       "    <tr>\n",
       "      <th>67</th>\n",
       "      <td>Ethiopia</td>\n",
       "      <td>\"ET\"</td>\n",
       "      <td>ETH</td>\n",
       "      <td>\"231\"</td>\n",
       "      <td>8.0</td>\n",
       "      <td>38.0</td>\n",
       "    </tr>\n",
       "  </tbody>\n",
       "</table>\n",
       "</div>"
      ],
      "text/plain": [
       "     Country Alpha-2 code Alpha-3 code Numeric code  lat   lon\n",
       "67  Ethiopia         \"ET\"          ETH        \"231\"  8.0  38.0"
      ]
     },
     "metadata": {},
     "output_type": "display_data"
    },
    {
     "data": {
      "text/html": [
       "<div>\n",
       "<style scoped>\n",
       "    .dataframe tbody tr th:only-of-type {\n",
       "        vertical-align: middle;\n",
       "    }\n",
       "\n",
       "    .dataframe tbody tr th {\n",
       "        vertical-align: top;\n",
       "    }\n",
       "\n",
       "    .dataframe thead th {\n",
       "        text-align: right;\n",
       "    }\n",
       "</style>\n",
       "<table border=\"1\" class=\"dataframe\">\n",
       "  <thead>\n",
       "    <tr style=\"text-align: right;\">\n",
       "      <th></th>\n",
       "      <th>Country</th>\n",
       "      <th>Alpha-2 code</th>\n",
       "      <th>Alpha-3 code</th>\n",
       "      <th>Numeric code</th>\n",
       "      <th>lat</th>\n",
       "      <th>lon</th>\n",
       "    </tr>\n",
       "  </thead>\n",
       "  <tbody>\n",
       "    <tr>\n",
       "      <th>226</th>\n",
       "      <td>Uganda</td>\n",
       "      <td>\"UG\"</td>\n",
       "      <td>UGA</td>\n",
       "      <td>\"800\"</td>\n",
       "      <td>1.0</td>\n",
       "      <td>32.0</td>\n",
       "    </tr>\n",
       "  </tbody>\n",
       "</table>\n",
       "</div>"
      ],
      "text/plain": [
       "    Country Alpha-2 code Alpha-3 code Numeric code  lat   lon\n",
       "226  Uganda         \"UG\"          UGA        \"800\"  1.0  32.0"
      ]
     },
     "metadata": {},
     "output_type": "display_data"
    },
    {
     "data": {
      "text/html": [
       "<div>\n",
       "<style scoped>\n",
       "    .dataframe tbody tr th:only-of-type {\n",
       "        vertical-align: middle;\n",
       "    }\n",
       "\n",
       "    .dataframe tbody tr th {\n",
       "        vertical-align: top;\n",
       "    }\n",
       "\n",
       "    .dataframe thead th {\n",
       "        text-align: right;\n",
       "    }\n",
       "</style>\n",
       "<table border=\"1\" class=\"dataframe\">\n",
       "  <thead>\n",
       "    <tr style=\"text-align: right;\">\n",
       "      <th></th>\n",
       "      <th>Country</th>\n",
       "      <th>Alpha-2 code</th>\n",
       "      <th>Alpha-3 code</th>\n",
       "      <th>Numeric code</th>\n",
       "      <th>lat</th>\n",
       "      <th>lon</th>\n",
       "    </tr>\n",
       "  </thead>\n",
       "  <tbody>\n",
       "    <tr>\n",
       "      <th>145</th>\n",
       "      <td>Montenegro</td>\n",
       "      <td>\"ME\"</td>\n",
       "      <td>MNE</td>\n",
       "      <td>\"499\"</td>\n",
       "      <td>42.0</td>\n",
       "      <td>19.0</td>\n",
       "    </tr>\n",
       "  </tbody>\n",
       "</table>\n",
       "</div>"
      ],
      "text/plain": [
       "        Country Alpha-2 code Alpha-3 code Numeric code   lat   lon\n",
       "145  Montenegro         \"ME\"          MNE        \"499\"  42.0  19.0"
      ]
     },
     "metadata": {},
     "output_type": "display_data"
    },
    {
     "data": {
      "text/html": [
       "<div>\n",
       "<style scoped>\n",
       "    .dataframe tbody tr th:only-of-type {\n",
       "        vertical-align: middle;\n",
       "    }\n",
       "\n",
       "    .dataframe tbody tr th {\n",
       "        vertical-align: top;\n",
       "    }\n",
       "\n",
       "    .dataframe thead th {\n",
       "        text-align: right;\n",
       "    }\n",
       "</style>\n",
       "<table border=\"1\" class=\"dataframe\">\n",
       "  <thead>\n",
       "    <tr style=\"text-align: right;\">\n",
       "      <th></th>\n",
       "      <th>Country</th>\n",
       "      <th>Alpha-2 code</th>\n",
       "      <th>Alpha-3 code</th>\n",
       "      <th>Numeric code</th>\n",
       "      <th>lat</th>\n",
       "      <th>lon</th>\n",
       "    </tr>\n",
       "  </thead>\n",
       "  <tbody>\n",
       "    <tr>\n",
       "      <th>209</th>\n",
       "      <td>Sweden</td>\n",
       "      <td>\"SE\"</td>\n",
       "      <td>SWE</td>\n",
       "      <td>\"752\"</td>\n",
       "      <td>62.0</td>\n",
       "      <td>15.0</td>\n",
       "    </tr>\n",
       "  </tbody>\n",
       "</table>\n",
       "</div>"
      ],
      "text/plain": [
       "    Country Alpha-2 code Alpha-3 code Numeric code   lat   lon\n",
       "209  Sweden         \"SE\"          SWE        \"752\"  62.0  15.0"
      ]
     },
     "metadata": {},
     "output_type": "display_data"
    },
    {
     "data": {
      "text/html": [
       "<div>\n",
       "<style scoped>\n",
       "    .dataframe tbody tr th:only-of-type {\n",
       "        vertical-align: middle;\n",
       "    }\n",
       "\n",
       "    .dataframe tbody tr th {\n",
       "        vertical-align: top;\n",
       "    }\n",
       "\n",
       "    .dataframe thead th {\n",
       "        text-align: right;\n",
       "    }\n",
       "</style>\n",
       "<table border=\"1\" class=\"dataframe\">\n",
       "  <thead>\n",
       "    <tr style=\"text-align: right;\">\n",
       "      <th></th>\n",
       "      <th>Country</th>\n",
       "      <th>Alpha-2 code</th>\n",
       "      <th>Alpha-3 code</th>\n",
       "      <th>Numeric code</th>\n",
       "      <th>lat</th>\n",
       "      <th>lon</th>\n",
       "    </tr>\n",
       "  </thead>\n",
       "  <tbody>\n",
       "    <tr>\n",
       "      <th>209</th>\n",
       "      <td>Sweden</td>\n",
       "      <td>\"SE\"</td>\n",
       "      <td>SWE</td>\n",
       "      <td>\"752\"</td>\n",
       "      <td>62.0</td>\n",
       "      <td>15.0</td>\n",
       "    </tr>\n",
       "  </tbody>\n",
       "</table>\n",
       "</div>"
      ],
      "text/plain": [
       "    Country Alpha-2 code Alpha-3 code Numeric code   lat   lon\n",
       "209  Sweden         \"SE\"          SWE        \"752\"  62.0  15.0"
      ]
     },
     "metadata": {},
     "output_type": "display_data"
    },
    {
     "data": {
      "text/html": [
       "<div>\n",
       "<style scoped>\n",
       "    .dataframe tbody tr th:only-of-type {\n",
       "        vertical-align: middle;\n",
       "    }\n",
       "\n",
       "    .dataframe tbody tr th {\n",
       "        vertical-align: top;\n",
       "    }\n",
       "\n",
       "    .dataframe thead th {\n",
       "        text-align: right;\n",
       "    }\n",
       "</style>\n",
       "<table border=\"1\" class=\"dataframe\">\n",
       "  <thead>\n",
       "    <tr style=\"text-align: right;\">\n",
       "      <th></th>\n",
       "      <th>Country</th>\n",
       "      <th>Alpha-2 code</th>\n",
       "      <th>Alpha-3 code</th>\n",
       "      <th>Numeric code</th>\n",
       "      <th>lat</th>\n",
       "      <th>lon</th>\n",
       "    </tr>\n",
       "  </thead>\n",
       "  <tbody>\n",
       "    <tr>\n",
       "      <th>220</th>\n",
       "      <td>Trinidad and Tobago</td>\n",
       "      <td>\"TT\"</td>\n",
       "      <td>TTO</td>\n",
       "      <td>\"780\"</td>\n",
       "      <td>11.0</td>\n",
       "      <td>-61.0</td>\n",
       "    </tr>\n",
       "  </tbody>\n",
       "</table>\n",
       "</div>"
      ],
      "text/plain": [
       "                 Country Alpha-2 code Alpha-3 code Numeric code   lat   lon\n",
       "220  Trinidad and Tobago         \"TT\"          TTO        \"780\"  11.0 -61.0"
      ]
     },
     "metadata": {},
     "output_type": "display_data"
    }
   ],
   "source": [
    "#converting the jupyter notebook into html\n",
    "#! jupyter nbconvert --to html nellira-ragunanda-thashma-final_project_formatted.ipynb"
   ]
  },
  {
   "cell_type": "code",
   "execution_count": null,
   "id": "92af6b90",
   "metadata": {},
   "outputs": [],
   "source": []
  }
 ],
 "metadata": {
  "kernelspec": {
   "display_name": "Python 3",
   "language": "python",
   "name": "python3"
  },
  "language_info": {
   "codemirror_mode": {
    "name": "ipython",
    "version": 3
   },
   "file_extension": ".py",
   "mimetype": "text/x-python",
   "name": "python",
   "nbconvert_exporter": "python",
   "pygments_lexer": "ipython3",
   "version": "3.8.8"
  }
 },
 "nbformat": 4,
 "nbformat_minor": 5
}
